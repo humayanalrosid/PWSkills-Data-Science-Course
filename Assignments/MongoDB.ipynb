{
 "cells": [
  {
   "cell_type": "markdown",
   "id": "d06c0964-38d4-4c9b-af1d-a1ee8fd57a2c",
   "metadata": {},
   "source": [
    "# MongoDB"
   ]
  },
  {
   "cell_type": "markdown",
   "id": "cbb47dcf-8231-4447-8411-98bd5d945788",
   "metadata": {},
   "source": [
    "### Q1. What is MongoDB? Explain non-relational databases in short. In which scenarios it is preferred to use MongoDB over SQL databases?"
   ]
  },
  {
   "cell_type": "markdown",
   "id": "f48549f3-d3a0-4116-8a72-2998efe2666b",
   "metadata": {},
   "source": [
    "MongoDB is a popular open-source NoSQL database designed to store unstructured data flexible and scalable. It uses a document-based data model. The data is stored in JSON-like documents. This makes it easy to work with for developers."
   ]
  },
  {
   "cell_type": "markdown",
   "id": "24fc8a11-a069-41a1-869a-16e8fa5290b9",
   "metadata": {},
   "source": [
    "Non-relational databases, also known as NoSQL databases, do not rely on traditional table-based relational databases. They offer more flexibility in data structures. They are designed to handle large volumes of unstructured data."
   ]
  },
  {
   "cell_type": "markdown",
   "id": "f8873ed0-b652-4e51-ae2c-db7f728fdd82",
   "metadata": {},
   "source": [
    "MongoDB is preferable over SQL databases in situations where unstructured data is necessary and required to perform. For example, in social media applications where there are many users generating unstructured data such as posts, comments, likes, and shares. MongoDB is a great option in these situations due to its capacity to handle significant amounts of unstructured data. "
   ]
  },
  {
   "cell_type": "markdown",
   "id": "014d944c-ac4c-4762-9f9b-ab6e3416a1ec",
   "metadata": {},
   "source": [
    "### Q2. State and Explain the features of MongoDB."
   ]
  },
  {
   "cell_type": "markdown",
   "id": "d40e9817-f0e7-428b-beaf-c631d5709ec2",
   "metadata": {},
   "source": [
    "MongoDB is a popular open-source NoSQL database with several features. For modern web applications, this makes it a preferred choice. MongoDB's key features are:\n",
    "\n",
    "* Document-oriented: MongoDB stores data in JSON-like documents, which provides a flexible data model for developers.\n",
    "\n",
    "* Scalability: It scales horizontally, allowing easy data distribution across multiple servers.\n",
    "\n",
    "* High Availability: It provides high availability through replica sets, which automatically maintain multiple copies of data across different servers.\n",
    "\n",
    "* Indexing: It supports various types of indexing, including geospatial, text, and compound indexes, which improve query performance.\n",
    "\n",
    "* Aggregation framework: It provides a powerful aggregation framework for data analysis and reporting.\n",
    "\n",
    "* Easy integration: It can be easily integrated with other tools such as Hadoop, Spark, and Apache Kafka, making it a preferred choice for modern data-intensive applications."
   ]
  },
  {
   "cell_type": "markdown",
   "id": "5205a61d-5045-4478-ad0b-2154399afe44",
   "metadata": {},
   "source": [
    "### Q3. Write a code to connect MongoDB to Python. Also, create a database and a collection in MongoDB."
   ]
  },
  {
   "cell_type": "code",
   "execution_count": null,
   "id": "c8c64d80-7af0-4107-bb76-41af15958f40",
   "metadata": {},
   "outputs": [],
   "source": [
    "import pymongo\n",
    "\n",
    "client = pymongo.MongoClient(\"mongodb url\")\n",
    "db = client[\"mydb\"]\n",
    "col = db[\"customers\"]\n",
    "\n",
    "data = { \"name\": \"Humayan\", \"email\": \"hello@humayan.me\" }\n",
    "col.insert_one(data)"
   ]
  },
  {
   "cell_type": "markdown",
   "id": "bfdb13e1-91e9-4884-acc8-2c9334a13111",
   "metadata": {},
   "source": [
    "### Q4. Using the database and the collection created in question number 3, write a code to insert one record, and insert many records. Use the find() and find_one() methods to print the inserted record."
   ]
  },
  {
   "cell_type": "code",
   "execution_count": null,
   "id": "952f277e-07ed-428c-a5a9-951abc366cf4",
   "metadata": {},
   "outputs": [],
   "source": [
    "# Insert one record\n",
    "record = { \"name\": \"Humayan\", \"age\": 20}\n",
    "result = col.insert_one(record)\n",
    "print(f'Inserted record with id: {result.inserted_id}')\n",
    "\n",
    "# Insert many records\n",
    "records = [{'name': 'Humayan', 'age': 25}, {'name': 'Jack', 'age': 21}]\n",
    "results = col.insert_many(records)\n",
    "print(f'Inserted records with ids: {results.inserted_ids}')\n",
    "\n",
    "# Find one record\n",
    "record = col.find_one({'name': 'Jack'})\n",
    "print(f'Found record: {record}')\n",
    "\n",
    "# Find all records\n",
    "records = col.find()\n",
    "for record in records:\n",
    "    print(f'Found record: {record}')"
   ]
  },
  {
   "cell_type": "markdown",
   "id": "4b265fd7-fc8c-4153-bd91-c09970f9c1f9",
   "metadata": {},
   "source": [
    "### Q5. Explain how you can use the find() method to query the MongoDB database. Write a simple code to demonstrate this."
   ]
  },
  {
   "cell_type": "markdown",
   "id": "d9f9c319-0dfb-4b67-957b-1a1bc816048e",
   "metadata": {},
   "source": [
    "In MongoDB, find() queries a collection for documents that match a specified filter. I can iterate over the cursor to retrieve individual documents from the matching documents.\n",
    "\n",
    "Here is an example of how you can use the find() method to query a MongoDB collection:"
   ]
  },
  {
   "cell_type": "code",
   "execution_count": null,
   "id": "a05da33e-06a6-4581-b018-0d26089b75bf",
   "metadata": {},
   "outputs": [],
   "source": [
    "from pymongo import MongoClient\n",
    "\n",
    "client = MongoClient('mongodb url')\n",
    "\n",
    "db = client['mydb']\n",
    "col = db['customers']\n",
    "\n",
    "cursor = collection.find({'age': {'$gt': 18}})\n",
    "\n",
    "for i in cursor:\n",
    "    print(i)"
   ]
  },
  {
   "cell_type": "markdown",
   "id": "aefd36e2-fa34-4fd7-809f-7a8eb8082659",
   "metadata": {},
   "source": [
    "In the above code, I created a database named mydb and a collection named col. It queries the collection for documents where the age is greater than 18 and prints the matching documents."
   ]
  },
  {
   "cell_type": "markdown",
   "id": "92050546-88c0-4916-8ebb-360292fd0430",
   "metadata": {},
   "source": [
    "### Q6. Explain the sort() method. Give an example to demonstrate sorting in MongoDB."
   ]
  },
  {
   "cell_type": "markdown",
   "id": "4ef8dfd7-2f6e-4bba-ae28-1ee9401206e3",
   "metadata": {},
   "source": [
    "The sort() method is used to sort the results of a query in a specified order. For each field, I can specify the sort order. Here is an example of how to use sort() method in a MongoDB collection:"
   ]
  },
  {
   "cell_type": "code",
   "execution_count": null,
   "id": "3107f3d2-3a36-4a24-9ce7-c9d0503b5067",
   "metadata": {},
   "outputs": [],
   "source": [
    "from pymongo import MongoClient\n",
    "\n",
    "client = MongoClient('mongodb url')\n",
    "\n",
    "db = client['mydb']\n",
    "col = db['customers']\n",
    "\n",
    "cursor = col.find().sort('age', 1)\n",
    "\n",
    "for i in cursor:\n",
    "    print(i)"
   ]
  },
  {
   "cell_type": "markdown",
   "id": "b3c49c80-7424-4604-97b3-b3b984d581f3",
   "metadata": {},
   "source": [
    "It searches the collection for all documents and sort the results according to the age field. Then it prints sorted documents."
   ]
  },
  {
   "cell_type": "markdown",
   "id": "b8a8bf9d-7bd0-42ca-aac6-e8020b13287c",
   "metadata": {},
   "source": [
    "### Q7. Explain why delete_one(), delete_many(), and drop() is used."
   ]
  },
  {
   "cell_type": "markdown",
   "id": "ddae0d28-0eac-4d3c-996e-c1c41f7d9d73",
   "metadata": {},
   "source": [
    "delete_one(), delete_many(), and drop() are used to delete documents from a MongoDB collection. \n",
    "\n",
    "* **delete_one():** It is used to delete a single document that meets a specified filter. Only the first matching document would be deleted if there are multiple documents matching the filter query.\n",
    "\n",
    "* **delete_many():** It deletes all documents that match a specified filter. \n",
    "\n",
    "* **drop():** It drops the entire collection, removing all data and indexes associated with it."
   ]
  },
  {
   "cell_type": "code",
   "execution_count": null,
   "id": "cc5649cf-0371-49b3-8cd0-0ce32c63ffad",
   "metadata": {},
   "outputs": [],
   "source": []
  }
 ],
 "metadata": {
  "kernelspec": {
   "display_name": "Python 3 (ipykernel)",
   "language": "python",
   "name": "python3"
  },
  "language_info": {
   "codemirror_mode": {
    "name": "ipython",
    "version": 3
   },
   "file_extension": ".py",
   "mimetype": "text/x-python",
   "name": "python",
   "nbconvert_exporter": "python",
   "pygments_lexer": "ipython3",
   "version": "3.10.8"
  }
 },
 "nbformat": 4,
 "nbformat_minor": 5
}
