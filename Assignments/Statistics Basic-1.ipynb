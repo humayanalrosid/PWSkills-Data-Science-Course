{
 "cells": [
  {
   "cell_type": "markdown",
   "metadata": {},
   "source": [
    "- After executing the cell above, you should see that Python prints `Hello, Neurons` Congratulations on running your Python code!"
   ]
  },
  {
   "cell_type": "markdown",
   "metadata": {},
   "source": [
    "# Statistics Basic-1 Assignment Questions"
   ]
  },
  {
   "cell_type": "markdown",
   "metadata": {},
   "source": [
    "### Q1. What is Statistics?"
   ]
  },
  {
   "cell_type": "markdown",
   "metadata": {},
   "source": [
    "Statistics is a mathematics branch. It is used to understand, analyze, and draw meaningful conclusions from data. This involves gathering, organizing, summarizing, interpreting, and analyzing data to gain insights."
   ]
  },
  {
   "cell_type": "markdown",
   "metadata": {},
   "source": [
    "### Q2. Define the different types of statistics and give an example of when each type might be used."
   ]
  },
  {
   "cell_type": "markdown",
   "metadata": {},
   "source": [
    "There are two main types of statistics: descriptive and inferential statistics.\n",
    "\n",
    "1. `Descriptive Statistics:` Descriptive statistics summarize and describe the main features of a dataset. This gives us info on the data's central tendency, variability, and shape. Examples of descriptive statistics include:\n",
    "\n",
    "    * Measures of central tendency\n",
    "\n",
    "    * Measures of variability\n",
    "\n",
    "    * Measures of shape\n",
    "\n",
    "2. `Inferential Statistics:` Inferential statistics involve making conclusions about a population based on a sample of data. We can use them to test hypotheses, estimate parameters, and make predictions. Examples of inferential statistics include:\n",
    "\n",
    "    * Hypothesis testing\n",
    "\n",
    "    * Confidence intervals\n",
    "\n",
    "    * Regression analysis\n",
    "\n",
    "Overall, descriptive statistics help us understand and summarize data, while inferential statistics help us make broad conclusions about populations."
   ]
  },
  {
   "cell_type": "markdown",
   "metadata": {},
   "source": [
    "### Q3. What are the different types of data and how do they differ from each other? Provide an example of each type of data."
   ]
  },
  {
   "cell_type": "markdown",
   "metadata": {},
   "source": [
    "There are 2 main types of data: quantitative and qualitative. These types of data differ in characteristics and measurement level.\n",
    "\n",
    "1. `Qualitative Data:` Qualitative data is descriptive and represents qualities or characteristics that cannot be measured numerically. It's categorical data that helps you understand and describe a subject. Examples of qualitative data include:\n",
    "\n",
    "    * `Nominal Data:` Nominal data consists of categories or labels with no inherent order or numerical value. This is information that is categorical or qualitative. Examples of nominal data include:\n",
    "\n",
    "        * Gender (categories: male, female)\n",
    "\n",
    "        * Types of fruits (categories: apple, banana, orange)\n",
    "\n",
    "    * `Ordinal data:` ordinal data has categories with natural rankings, but the differences between them aren't necessarily equal.  It represents qualitative or categorical information that can be ordered. Examples of ordinal data include:\n",
    "\n",
    "        * Educational attainment (categories: high school, bachelor's degree, master's degree)\n",
    "\n",
    "        * Customer satisfaction ratings (categories: very satisfied, satisfied, neutral, dissatisfied, very dissatisfied)\n",
    "\n",
    "2. `Quantitative Data:` Quantitative data is numerical and represents quantities or measurements. It tells you how big or small something is. Quantitative data can be further divided into two subtypes:\n",
    "\n",
    "    * `Discrete Data:` Discrete data represents whole numbers or specific counts that cannot be subdivided further. Examples of discrete data include:\n",
    "\n",
    "        * Number of siblings (e.g., 2, 4, 0)\n",
    "\n",
    "        * Number of pets (e.g., 1, 3, 5)\n",
    "\n",
    "    * `Continuous Data:` Continuous data represents measurements that can take any value within a range. The value can be in decimal or fractional form. Examples of continuous data include:\n",
    "\n",
    "        * Height (e.g., 160 cm, 180 cm)\n",
    "\n",
    "        * Weight (e.g., 50 kg, 70 kg)\n",
    "\n",
    "        * Temperature (e.g., 20.5°C, 30.2°C)"
   ]
  },
  {
   "cell_type": "markdown",
   "metadata": {},
   "source": [
    "### Q4. Categorise the following datasets with respect to quantitative and qualitative data types:\n",
    "(i) Grading in exam: A+, A, B+, B, C+, C, D, E <br>\n",
    "(ii) Colour of mangoes: yellow, green, orange, red <br>\n",
    "(iii) Height data of a class: [178.9, 179, 179.5, 176, 177.2, 178.3, 175.8,...] <br>\n",
    "(iv) Number of mangoes exported by a farm: [500, 600, 478, 672, ...] "
   ]
  },
  {
   "cell_type": "markdown",
   "metadata": {},
   "source": [
    "1. Grading in exam: qualitative data \n",
    "2. Colour of mangoes: qualitative data \n",
    "3. Height data of a class: quantitative data \n",
    "4. Number of mangoes exported by a farm: quantitative data"
   ]
  },
  {
   "cell_type": "markdown",
   "metadata": {},
   "source": [
    "### Q5. Explain the concept of levels of measurement and give an example of a variable for each level."
   ]
  },
  {
   "cell_type": "markdown",
   "metadata": {},
   "source": [
    "Levels of measurement, also known as scales of measurement, refer to the different ways variables can be measured or categorized. These levels determine the types of statistical analysis applied to the data.\n",
    "\n",
    "There are four levels of measurement:\n",
    "\n",
    "1. Nominal: This level involves categorizing variables into distinct groups or categories where there is no inherent order or numerical value. \n",
    "\n",
    "    * Gender (categories: male, female)\n",
    "\n",
    "2. Ordinal: At this level, variables can be ranked or ordered, but the differences between the ranks are not necessarily equal. Examples include:\n",
    "\n",
    "    * Star ratings for movies (categories: 1 star, 2 stars, 3 stars, etc.)\n",
    "\n",
    "3. Interval: Variables at this level have ordered categories, and the differences between the values are meaningful and equal. However, there is no true zero point. Examples include:\n",
    "\n",
    "    * Temperature measured in degrees Celsius or Fahrenheit;\n",
    "\n",
    "4. Ratio: This is the highest level of measurement, where variables have ordered categories, equal differences between values, and a true zero point. Examples include:\n",
    "\n",
    "    * Height in centimeters or inches"
   ]
  },
  {
   "cell_type": "markdown",
   "metadata": {},
   "source": [
    "### Q6. Why is it important to understand the level of measurement when analyzing data? Provide an example to illustrate your answer."
   ]
  },
  {
   "cell_type": "markdown",
   "metadata": {},
   "source": [
    "The level of measurement of a variable is important to understand when analyzing data. This is because it determines the type of statistical analysis conducted. The four levels of measurement are:\n",
    "\n",
    "* Nominal\n",
    "\n",
    "* Ordinal\n",
    "\n",
    "* Interval\n",
    "\n",
    "* Ratio\n",
    "\n",
    "For example, let's say I am conducting a study on gender and income relationships. The variable \"gender\" is nominal, so I could use a chi-square test to see if there is a statistically significant relationship between gender and income. \n",
    "\n",
    "In general, it is important to use the correct measurement level when analyzing data. Using the wrong measurements can lead to incorrect conclusions."
   ]
  },
  {
   "cell_type": "markdown",
   "metadata": {},
   "source": [
    "### Q7. How nominal data type is different from ordinal data type."
   ]
  },
  {
   "cell_type": "markdown",
   "metadata": {},
   "source": [
    "Both nominal and ordinal data types are categorical, but they differ in a few ways:\n",
    "\n",
    "* There's no inherent order to nominal data. Categorization is just a way of identifying different groups. As an example, \"male\" and \"female\" are nominal data because they don't have an inherent order.\n",
    "\n",
    "* The intervals between the categories in ordinal data aren't equal. There's an order to the categories \"strongly agree,\" \"agree,\" \"disagree,\" and \"strongly disagree,\" but the interval between them's not equal."
   ]
  },
  {
   "cell_type": "markdown",
   "metadata": {},
   "source": [
    "### Q8. Which type of plot can be used to display data in terms of range?"
   ]
  },
  {
   "cell_type": "markdown",
   "metadata": {},
   "source": [
    "The type of plot that is suitable for displaying data in terms of range depends on the specific data set and the goals of the analysis. If we just want to show the range of data, a range plot might be enough. However, a box plot may be a better choice if we want to show the data distribution too."
   ]
  },
  {
   "cell_type": "markdown",
   "metadata": {},
   "source": [
    "### Q9. Describe the difference between descriptive and inferential statistics. Give an example of each type of statistics and explain how they are used."
   ]
  },
  {
   "cell_type": "markdown",
   "metadata": {},
   "source": [
    "Descriptive and inferential statistics are two different types of statistics used to analyze data. Descriptive statistics are used to summarize and describe data, while inferential statistics are used to make inferences about a population based on a sample.\n",
    "\n",
    "| Characteristic | Descriptive | Inferential |\n",
    "|---|---|---|\n",
    "| Purpose | Summarize and describe data | Make inferences about a population |\n",
    "| Data | Sample data | Population data |\n",
    "| Methods | Measures of central tendency, measures of dispersion, graphical displays | Probability, hypothesis testing, confidence intervals |\n",
    "| Examples | Mean, median, standard deviation, histogram | t-tests, ANOVA, chi-squared tests |\n",
    "\n",
    "\n",
    "The type of statistics best suited to a particular analysis depends on the analysis goals. If the goal is to summarize and describe data, descriptive statistics may be sufficient. However, if the goal is to make inferences about a population, inferential statistics may be necessary."
   ]
  },
  {
   "cell_type": "markdown",
   "metadata": {},
   "source": [
    "### Q10. What are some common measures of central tendency and variability used in statistics? Explain how each measure can be used to describe a dataset."
   ]
  },
  {
   "cell_type": "markdown",
   "metadata": {},
   "source": [
    "Here are some common measures of central tendency and variability used in statistics:\n",
    "\n",
    "1. Measures of central tendency\n",
    "\n",
    "    * Mean: The mean is the average of a set of data. The mean is a good measure of central tendency for normally distributed data.\n",
    "\n",
    "    * Median: The median is the middle value in a sorted data set. The median is a good measure of central tendency for skewed data.\n",
    "\n",
    "    * Mode: The mode is the most frequent value in a data set. The mode is a good measure of central tendency for data that is not normally distributed.\n",
    "\n",
    "2. Variability measures\n",
    "\n",
    "    * Range: The range is a simple measure of variability, but it can be misleading if the data set contains outliers.\n",
    "\n",
    "    * Variance: The variance is a measure of how spread out the data is around the mean. Variance is hard to analyze, so it's often called the standard deviation.\n",
    "\n",
    "    * Standard deviation: The standard deviation is the square root of the variance. It is the typical distance between a data point and the mean.\n",
    "    \n",
    "\n",
    "Here are some examples of how each measure can be used to describe a dataset:\n",
    "\n",
    "* The mean can be used to describe the average weight of a group of students.\n",
    "\n",
    "* The median can be used to describe the income level in a population.\n",
    "\n",
    "* The mode can be used to describe the most common blood type in a group of students.\n",
    "\n",
    "* The range can be used to describe the difference between the highest and lowest temperatures in a city.\n",
    "\n",
    "* The variance can be used to describe the variability of the number of cars sold by a company each year.\n",
    "\n",
    "* The standard deviation can be used to describe the typical distance between a data point and the mean."
   ]
  },
  {
   "cell_type": "code",
   "execution_count": null,
   "metadata": {},
   "outputs": [],
   "source": []
  }
 ],
 "metadata": {
  "kernelspec": {
   "display_name": "Python 3 (ipykernel)",
   "language": "python",
   "name": "python3"
  },
  "language_info": {
   "codemirror_mode": {
    "name": "ipython",
    "version": 3
   },
   "file_extension": ".py",
   "mimetype": "text/x-python",
   "name": "python",
   "nbconvert_exporter": "python",
   "pygments_lexer": "ipython3",
   "version": "3.10.8"
  }
 },
 "nbformat": 4,
 "nbformat_minor": 4
}
