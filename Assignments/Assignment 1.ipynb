{
 "cells": [
  {
   "cell_type": "markdown",
   "id": "7f12d5e2-3b99-4bd4-a81c-b135bb2c953a",
   "metadata": {},
   "source": [
    "Q1. Create one variable containing following type of data:\n",
    "(i) string\n",
    "(ii) list\n",
    "(iii) float\n",
    "(iv) tuple"
   ]
  },
  {
   "cell_type": "code",
   "execution_count": null,
   "id": "22c68840-c1d2-4a81-a8e0-d0d2df371f7a",
   "metadata": {},
   "outputs": [],
   "source": [
    "my_string = \"Humayan Al Rosid\"\n",
    "my_list = [15, 'python', 45.2]\n",
    "my_float = 5.6\n",
    "my_tuple = (5, 'data science', 1.2)"
   ]
  },
  {
   "cell_type": "markdown",
   "id": "3f20e2e4-980f-4d9d-9962-e585d1ef69fe",
   "metadata": {},
   "source": [
    "Q2. Given are some following variables containing data:\n",
    "(i) var1 = ‘ ‘\n",
    "(ii) var2 = ‘[ DS , ML , Python]’\n",
    "(iii) var3 = [ ‘DS’ , ’ML’ , ‘Python’ ]\n",
    "(iv) var4 = 1.\n",
    "What will be the data type of the above given variable."
   ]
  },
  {
   "cell_type": "code",
   "execution_count": null,
   "id": "5503e2da-2de8-43c5-88b8-8d88bbc55a8e",
   "metadata": {},
   "outputs": [],
   "source": [
    "var1 = ''   \n",
    "print(type(var1))    # string\n",
    "\n",
    "var2 = '[ DS , ML , Python]'\n",
    "print(type(var2))    # string\n",
    "\n",
    "var3 = [ 'DS' , 'ML' , 'Python' ]\n",
    "print(type(var3))    # list\n",
    "\n",
    "var4 = 1\n",
    "print(type(var4))    # int"
   ]
  },
  {
   "cell_type": "markdown",
   "id": "51fcb929-6f9a-41c8-8cb8-265e6d06ba5b",
   "metadata": {},
   "source": [
    "Q3. Explain the use of the following operators using an example:\n",
    "\n",
    "(i) /       is used for divison operation. It returns the quotient of the division operator. \n",
    "            For example, 5 / 2 = 2.5\n",
    "    \n",
    "(ii) %      is used for modulus or remainder operation. \n",
    "            For example, 5 % 2 = 1\n",
    "            \n",
    "(iii) //    is used for integer division operation. It converts the quotient to the nearest integer. \n",
    "            For example, 5 // 2 = 2\n",
    "\n",
    "(iv) **     is used for exponentiation operation. It raises the first operand to the power of the second operand and returns the result.  \n",
    "            For example  5 ** 2 = 25\n"
   ]
  },
  {
   "cell_type": "markdown",
   "id": "906a7049-5104-447d-a957-31b36d468e0e",
   "metadata": {},
   "source": [
    "Q4. Create a list of length 10 of your choice containing multiple types of data. Using for loop print the\n",
    "element and its data type."
   ]
  },
  {
   "cell_type": "code",
   "execution_count": null,
   "id": "e185499f-1d7e-4c6c-83a7-f3f62f117919",
   "metadata": {},
   "outputs": [],
   "source": [
    "my_list = [1, 'hello', 3.14, True, [1, 2, 3], {'key': 'value'}, None, (1, 2), 'world', False]\n",
    "\n",
    "for x in my_list:\n",
    "    print(x)\n",
    "    print(type(x))"
   ]
  },
  {
   "cell_type": "markdown",
   "id": "ed672a80-a5c4-4477-80c7-5511381f6ded",
   "metadata": {},
   "source": [
    "Q5. Using a while loop, verify if the number A is purely divisible by number B and if so then how many\n",
    "times it can be divisible."
   ]
  },
  {
   "cell_type": "code",
   "execution_count": 5,
   "id": "489f5cba-4ef7-4262-9838-143669ba274f",
   "metadata": {},
   "outputs": [
    {
     "name": "stdout",
     "output_type": "stream",
     "text": [
      "2\n"
     ]
    }
   ],
   "source": [
    "a = 100\n",
    "b = 5\n",
    "\n",
    "count = 0\n",
    "while a % b == 0:\n",
    "    count += 1\n",
    "    a /= b\n",
    "print(count)"
   ]
  },
  {
   "cell_type": "markdown",
   "id": "727b8f56-fcd6-42d8-8b12-c49a8b4c09a2",
   "metadata": {},
   "source": [
    "Q6. Create a list containing 25 int type data. Using for loop and if-else condition print if the element is\n",
    "divisible by 3 or not."
   ]
  },
  {
   "cell_type": "code",
   "execution_count": null,
   "id": "9b7c5600-b86f-45c0-9a1f-153709eff3f1",
   "metadata": {},
   "outputs": [],
   "source": [
    "my_list = [1, 2, 3, 4, 5, 6, 7, 8, 9, 10, 11, 12, 13, 14, 15, 16, 17, 18, 19, 20, 21, 22, 23, 24, 25]\n",
    "\n",
    "for x in my_list:\n",
    "    if x % 3 == 0:\n",
    "        print('Yes')\n",
    "    else:\n",
    "        print('No')"
   ]
  },
  {
   "cell_type": "markdown",
   "id": "191c9ef8-132c-4e36-abbe-ef6fa7b99a1a",
   "metadata": {},
   "source": [
    "Q7. What do you understand about mutable and immutable data types? Give examples for both showing\n",
    "this property."
   ]
  },
  {
   "cell_type": "markdown",
   "id": "ec65a79b-ab34-47e8-b739-b5381cc99d4d",
   "metadata": {},
   "source": [
    "Mutable : Mutable data types are those data types that can be changed after they are created. \n",
    "\n",
    "For example, if I have a list of 5 boys of different heights. And if I want to change one of those heights on the list, I can do it. It means the list is mutable. Lists, Sets, and Dictionaries are mutable data types.\n",
    "\n",
    "Immutable : Immutable data types are those data types that can't be changed after they are created. \n",
    "\n",
    "For example, if I have a variable named name that stores my name as a string, if I try to modify it, it will give me an error message. Integers, floats, strings, and tuples are immutable data types."
   ]
  }
 ],
 "metadata": {
  "kernelspec": {
   "display_name": "Python 3 (ipykernel)",
   "language": "python",
   "name": "python3"
  },
  "language_info": {
   "codemirror_mode": {
    "name": "ipython",
    "version": 3
   },
   "file_extension": ".py",
   "mimetype": "text/x-python",
   "name": "python",
   "nbconvert_exporter": "python",
   "pygments_lexer": "ipython3",
   "version": "3.10.8"
  }
 },
 "nbformat": 4,
 "nbformat_minor": 5
}
