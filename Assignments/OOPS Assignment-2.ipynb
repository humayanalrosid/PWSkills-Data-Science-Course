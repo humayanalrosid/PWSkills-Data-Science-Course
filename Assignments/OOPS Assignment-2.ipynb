{
 "cells": [
  {
   "cell_type": "markdown",
   "id": "4e39bad3-3e3e-43e5-ba66-2f5ecf48eb95",
   "metadata": {},
   "source": [
    "# OOPS Assignment-2"
   ]
  },
  {
   "cell_type": "markdown",
   "id": "b2236bdf-59d9-4011-8500-072d1ffaad8a",
   "metadata": {},
   "source": [
    "### Q1. What is Abstraction in OOps? Explain with an example."
   ]
  },
  {
   "cell_type": "markdown",
   "id": "1190c16e-3e71-4dec-9b6e-73bc92285885",
   "metadata": {},
   "source": [
    "Abstraction is a concept in OOPs that hides the internal implementation of a method from the user."
   ]
  },
  {
   "cell_type": "code",
   "execution_count": null,
   "id": "59ef9e61-5c28-4685-b795-b8e5beca81bc",
   "metadata": {},
   "outputs": [],
   "source": [
    "from abc import ABC, abstractmethod\n",
    "\n",
    "class Vehicle(ABC):\n",
    "    @abstractmethod\n",
    "    def start(self):\n",
    "        pass\n",
    "\n",
    "    @abstractmethod\n",
    "    def stop(self):\n",
    "        pass\n",
    "\n",
    "class Car(Vehicle):\n",
    "    def start(self):\n",
    "        print(\"Car started\")\n",
    "\n",
    "    def stop(self):\n",
    "        print(\"Car stopped\")"
   ]
  },
  {
   "cell_type": "markdown",
   "id": "0b50bd08-af68-4bf4-9c26-87a9ccd35a1e",
   "metadata": {},
   "source": [
    "In this example, I have an abstract class called 'Vehicle'. It has two abstract methods known as 'start' and 'stop'. Now I create a car class, which inherits from the vehicle class. Then I implement the 'start' and 'stop' methods in my own style."
   ]
  },
  {
   "cell_type": "markdown",
   "id": "3d83b11a-f1a1-489f-950f-7ffb018353c9",
   "metadata": {},
   "source": [
    "### Q2. Differentiate between Abstraction and Encapsulation. Explain with an example."
   ]
  },
  {
   "cell_type": "markdown",
   "id": "9aa6c701-1a34-41f1-bc75-c754fd5bcf44",
   "metadata": {},
   "source": [
    "In abstraction, the implementation details of an object are hidden from the user and only the necessary information is displayed. Encapsulation is the process of wrapping data and code into a single unit. It restricts users to access it from outside."
   ]
  },
  {
   "cell_type": "code",
   "execution_count": 1,
   "id": "c9d3ae7c-41fd-4507-98c9-7696cab56a4d",
   "metadata": {},
   "outputs": [],
   "source": [
    "#  Here is an example of Abstraction:\n",
    "\n",
    "from abc import ABC, abstractmethod\n",
    "\n",
    "class Vehicle(ABC):\n",
    "    @abstractmethod\n",
    "    def start(self):\n",
    "        pass\n",
    "\n",
    "class Car(Vehicle):\n",
    "    def start(self):\n",
    "        print(\"Car started\")\n",
    "\n",
    "class Bike(Vehicle):\n",
    "    def start(self):\n",
    "        print(\"Bike started\")"
   ]
  },
  {
   "cell_type": "code",
   "execution_count": 3,
   "id": "5f4370f8-98de-4e40-8e7a-f75b17e61cf7",
   "metadata": {},
   "outputs": [],
   "source": [
    "# Here is an example of Encapsulation:\n",
    "\n",
    "class Bank:\n",
    "    def __init__(self):\n",
    "        self.__balance = 0\n",
    "\n",
    "    def deposit(self, amount):\n",
    "        self.__balance += amount\n",
    "\n",
    "    def withdraw(self, amount):\n",
    "        if self.__balance >= amount:\n",
    "            self.__balance -= amount\n",
    "        else:\n",
    "            print(\"Insufficient balance\")\n",
    "\n",
    "    def get_balance(self):\n",
    "        return self.__balance"
   ]
  },
  {
   "cell_type": "markdown",
   "id": "c25b4687-b16b-4beb-aadf-bc663429258c",
   "metadata": {},
   "source": [
    "### Q3. What is abc module in python? Why is it used?"
   ]
  },
  {
   "cell_type": "markdown",
   "id": "082048c6-f4cd-47f9-abe1-aa11e55e7a0e",
   "metadata": {},
   "source": [
    "The ABC module in Python provides the infrastructure for defining abstract base classes in Python. It defines abstract classes that can be inherited by other classes.\n",
    "\n",
    "The ABC module in Python is like a special tool that helps me create new things. It’s like a box of building blocks I can use to make new toys. Abstract classes help me create new classes without explaining how they work. I can use the blocks to make my own class by putting them together in different ways."
   ]
  },
  {
   "cell_type": "markdown",
   "id": "96d2b07f-02e0-473d-891e-bb26607a2906",
   "metadata": {},
   "source": [
    "### Q4. How can we achieve data abstraction?"
   ]
  },
  {
   "cell_type": "markdown",
   "id": "5dfca65a-1120-4ecb-9e5b-d049e96bd59a",
   "metadata": {},
   "source": [
    "Data abstraction is the process of hiding irrelevant or unwanted data from the end user.\n",
    "\n",
    "Python allows data abstraction using classes and objects. I can create a class with attributes and methods. The user can then use the methods to interact with the class without knowing how they are implemented."
   ]
  },
  {
   "cell_type": "markdown",
   "id": "0525cab9-53ca-4e20-9a16-37ff488fc5ca",
   "metadata": {},
   "source": [
    "### Q5. Can we create an instance of an abstract class? Explain your answer."
   ]
  },
  {
   "cell_type": "markdown",
   "id": "d84c6459-77cf-4bf2-9ac1-ea8e43f06528",
   "metadata": {},
   "source": [
    "I cannot create an abstract class instance in Python directly. However, Python provides a module that allows abstract classes known as the ABC module."
   ]
  },
  {
   "cell_type": "code",
   "execution_count": 6,
   "id": "10b74416-daa4-4ab8-bb4b-b45950913264",
   "metadata": {},
   "outputs": [],
   "source": [
    "from abc import ABC\n",
    "\n",
    "class A(ABC):\n",
    "    pass"
   ]
  },
  {
   "cell_type": "markdown",
   "id": "5bd09b4f-c281-4b26-9461-21e63a0e38fb",
   "metadata": {},
   "source": [
    "In this example, I created an abstract class called A. Then I imported the ABC class from the abc module and used it as a base class for my A class. I cannot create an instance of this class directly. Instead, I must create a subclass that implements all the abstract methods defined in abstract class A."
   ]
  }
 ],
 "metadata": {
  "kernelspec": {
   "display_name": "Python 3 (ipykernel)",
   "language": "python",
   "name": "python3"
  },
  "language_info": {
   "codemirror_mode": {
    "name": "ipython",
    "version": 3
   },
   "file_extension": ".py",
   "mimetype": "text/x-python",
   "name": "python",
   "nbconvert_exporter": "python",
   "pygments_lexer": "ipython3",
   "version": "3.10.8"
  }
 },
 "nbformat": 4,
 "nbformat_minor": 5
}
