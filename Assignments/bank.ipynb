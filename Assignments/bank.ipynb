{
 "cells": [
  {
   "cell_type": "code",
   "execution_count": 1,
   "id": "c8c8c96f-adfe-469b-9870-1a4ba53402bd",
   "metadata": {},
   "outputs": [],
   "source": [
    "import random"
   ]
  },
  {
   "cell_type": "code",
   "execution_count": 12,
   "id": "11eb5328-a291-4940-a344-18362d976382",
   "metadata": {},
   "outputs": [],
   "source": [
    "class Bank:\n",
    "    \n",
    "    def __init__(self):\n",
    "        self.__balance = 0\n",
    "        self.__account_number = 0\n",
    "        self.__customers = []\n",
    "    \n",
    "    # account creation\n",
    "    def create_account(self, name, age, email, phone):\n",
    "        for customer in self.__customers:\n",
    "            if customer['email'] == email or customer['phone'] == phone:\n",
    "                return 'Account creation denied. Email or phone number already exists.'\n",
    "            \n",
    "        self.__account_number = random.randint(10000000, 99999999)\n",
    "        \n",
    "        customer = {\n",
    "            'name': name,\n",
    "            'age': age,\n",
    "            'email': email,\n",
    "            'phone': phone,\n",
    "            'account_number': self.__account_number\n",
    "        }\n",
    "        \n",
    "        self.__customers.append(customer)\n",
    "        return f'Congrats! Your account number is: {self.__account_number}'\n",
    "    \n",
    "    # Find account number\n",
    "    def find_account_number(self):\n",
    "        return f'Your account number is: {self.__account_number}'\n",
    "    \n",
    "    # Check account balance\n",
    "    def check_balance(self):\n",
    "        return f'${self.__balance}'\n",
    "        \n",
    "    # money deposit\n",
    "    def deposit(self, amount):\n",
    "        self.__balance += amount\n",
    "        return f'${amount} added successfully'\n",
    "    \n",
    "    # withdraw money\n",
    "    def withdraw(self, amount):\n",
    "        if self.__balance >= amount:\n",
    "            self.__balance -= amount\n",
    "            return f'${amount} withdrawn successfully'\n",
    "        else:\n",
    "            return 'Insufficient balance'\n",
    "    \n",
    "    # Find account details\n",
    "    def account_details(self, account_number):\n",
    "        for customer in self.__customers:\n",
    "            if customer['account_number'] == account_number:\n",
    "                name = customer['name']\n",
    "                age = customer['age']\n",
    "                email = customer['email']\n",
    "                phone = customer['phone']\n",
    "                    \n",
    "                print(f' Name: {name}\\n Age: {age}\\n Email: {email}\\n Phone: {phone}\\n Balance: {self.__balance}\\n Account Number: {self.__account_number}')\n",
    "                \n",
    "            else:\n",
    "                return 'Account not found'"
   ]
  },
  {
   "cell_type": "code",
   "execution_count": 13,
   "id": "104a16b8-73b4-4fed-bde1-dc4b647e6c00",
   "metadata": {},
   "outputs": [],
   "source": [
    "c1 = Bank()"
   ]
  },
  {
   "cell_type": "code",
   "execution_count": 14,
   "id": "491b15b4-940a-4641-972f-f896cb690a4a",
   "metadata": {},
   "outputs": [
    {
     "data": {
      "text/plain": [
       "'Congrats! Your account number is: 80136059'"
      ]
     },
     "execution_count": 14,
     "metadata": {},
     "output_type": "execute_result"
    }
   ],
   "source": [
    "c1.create_account('Huamayn', 20, 'humayan@gmail.com', 9876543210)"
   ]
  },
  {
   "cell_type": "code",
   "execution_count": 15,
   "id": "5064144b-2391-4659-b5f7-e48efc47008f",
   "metadata": {},
   "outputs": [
    {
     "data": {
      "text/plain": [
       "'$0'"
      ]
     },
     "execution_count": 15,
     "metadata": {},
     "output_type": "execute_result"
    }
   ],
   "source": [
    "c1.check_balance()"
   ]
  },
  {
   "cell_type": "code",
   "execution_count": 16,
   "id": "216cdb95-cfe9-4bf3-bfc0-fb520c48e64c",
   "metadata": {},
   "outputs": [
    {
     "data": {
      "text/plain": [
       "'$1520 added successfully'"
      ]
     },
     "execution_count": 16,
     "metadata": {},
     "output_type": "execute_result"
    }
   ],
   "source": [
    "c1.deposit(1520)"
   ]
  },
  {
   "cell_type": "code",
   "execution_count": 17,
   "id": "26b83dce-2d88-4bd7-9480-4cb37890fe12",
   "metadata": {},
   "outputs": [
    {
     "data": {
      "text/plain": [
       "'$1520'"
      ]
     },
     "execution_count": 17,
     "metadata": {},
     "output_type": "execute_result"
    }
   ],
   "source": [
    "c1.check_balance()"
   ]
  },
  {
   "cell_type": "code",
   "execution_count": 18,
   "id": "d1175ce0-a435-46e7-965a-4f24e2ebe282",
   "metadata": {},
   "outputs": [
    {
     "data": {
      "text/plain": [
       "'$20 withdrawn successfully'"
      ]
     },
     "execution_count": 18,
     "metadata": {},
     "output_type": "execute_result"
    }
   ],
   "source": [
    "c1.withdraw(20)"
   ]
  },
  {
   "cell_type": "code",
   "execution_count": 20,
   "id": "607386b1-1879-4206-9c3f-306367c6e84d",
   "metadata": {},
   "outputs": [
    {
     "data": {
      "text/plain": [
       "'$1500'"
      ]
     },
     "execution_count": 20,
     "metadata": {},
     "output_type": "execute_result"
    }
   ],
   "source": [
    "c1.check_balance()"
   ]
  },
  {
   "cell_type": "code",
   "execution_count": 21,
   "id": "8fe93e64-fb4a-4efa-b155-bd5e4c446a74",
   "metadata": {},
   "outputs": [
    {
     "data": {
      "text/plain": [
       "'Your account number is: 80136059'"
      ]
     },
     "execution_count": 21,
     "metadata": {},
     "output_type": "execute_result"
    }
   ],
   "source": [
    "c1.find_account_number()"
   ]
  },
  {
   "cell_type": "code",
   "execution_count": 23,
   "id": "fde3d315-3394-4761-b7a6-840bd278a93a",
   "metadata": {},
   "outputs": [
    {
     "name": "stdout",
     "output_type": "stream",
     "text": [
      " Name: Huamayn\n",
      " Age: 20\n",
      " Email: humayan@gmail.com\n",
      " Phone: 9876543210\n",
      " Balance: 1500\n",
      " Account Number: 80136059\n"
     ]
    }
   ],
   "source": [
    "c1.account_details(80136059)"
   ]
  }
 ],
 "metadata": {
  "kernelspec": {
   "display_name": "Python 3 (ipykernel)",
   "language": "python",
   "name": "python3"
  },
  "language_info": {
   "codemirror_mode": {
    "name": "ipython",
    "version": 3
   },
   "file_extension": ".py",
   "mimetype": "text/x-python",
   "name": "python",
   "nbconvert_exporter": "python",
   "pygments_lexer": "ipython3",
   "version": "3.11.2"
  }
 },
 "nbformat": 4,
 "nbformat_minor": 5
}
