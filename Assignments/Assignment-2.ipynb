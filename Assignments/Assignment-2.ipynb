{
 "cells": [
  {
   "cell_type": "markdown",
   "id": "8b673c1d-5f2e-47bf-87cf-3dab27668ddf",
   "metadata": {},
   "source": [
    "Q1. How do you comment code in Python? What are the different types of comments?"
   ]
  },
  {
   "cell_type": "markdown",
   "id": "2d413ced-0ec4-4cca-83bf-0328cc0f5c62",
   "metadata": {},
   "source": [
    "We can comment using a #. Python has 2 types of comments. One is a single line comment and another is a multiline comment."
   ]
  },
  {
   "cell_type": "markdown",
   "id": "a5b96243-336a-459c-9f49-0786fe5b2352",
   "metadata": {},
   "source": [
    "Q2. What are variables in Python? How do you declare and assign values to variables?"
   ]
  },
  {
   "cell_type": "markdown",
   "id": "4824bce4-fd0b-4604-bac3-dfc32456a78e",
   "metadata": {},
   "source": [
    "Python variables store data values. I can store any value in a variable like a string, number or list."
   ]
  },
  {
   "cell_type": "markdown",
   "id": "4ae4a0b0-f639-4da2-9f7f-27ec97060126",
   "metadata": {},
   "source": [
    "Q3. How do you convert one data type to another in Python?"
   ]
  },
  {
   "cell_type": "markdown",
   "id": "937ba35b-458c-4509-9f5a-b54c208341f8",
   "metadata": {},
   "source": [
    "I can convert one data type to another data type using type conversion functions like str(), int(), and float()."
   ]
  },
  {
   "cell_type": "markdown",
   "id": "feab060b-3752-4342-ad24-bf61b25f6a44",
   "metadata": {},
   "source": [
    "Q4. How do you write and execute a Python script from the command line?"
   ]
  },
  {
   "cell_type": "markdown",
   "id": "760f0497-0592-453c-ab7e-eaee98535275",
   "metadata": {},
   "source": [
    "I can execute a Python script from the terminal using this command: python myfile.py"
   ]
  },
  {
   "cell_type": "markdown",
   "id": "b88312a3-27fc-4a9b-a396-838d4d544bb9",
   "metadata": {},
   "source": [
    "Q5. Given a list my_list = [1, 2, 3, 4, 5], write the code to slice the list and obtain the sub-list [2, 3]."
   ]
  },
  {
   "cell_type": "code",
   "execution_count": 1,
   "id": "9eb6b0fb-b5ab-4a88-8dd3-b26cc25a2508",
   "metadata": {},
   "outputs": [
    {
     "name": "stdout",
     "output_type": "stream",
     "text": [
      "[2, 3]\n"
     ]
    }
   ],
   "source": [
    "my_list = [1, 2, 3, 4, 5]\n",
    "print(my_list[1:3])"
   ]
  },
  {
   "cell_type": "markdown",
   "id": "02cb13dd-e63c-43d9-86ea-e28fbaba4f03",
   "metadata": {},
   "source": [
    "Q6. What is a complex number in mathematics, and how is it represented in Python?"
   ]
  },
  {
   "cell_type": "markdown",
   "id": "63e30e09-798d-473b-9e7e-2e1f0ca59906",
   "metadata": {},
   "source": [
    "Complex numbers are the combination of a real and an imaginary number. I can represent a complex number in Python in x+yj form. I can access the real part using real() and the imaginary part using imag()."
   ]
  },
  {
   "cell_type": "markdown",
   "id": "ae505359-0364-4113-a46d-54ddc1cd1a3f",
   "metadata": {},
   "source": [
    "Q7. What is the correct way to declare a variable named age and assign the value 25 to it?"
   ]
  },
  {
   "cell_type": "code",
   "execution_count": null,
   "id": "851385e3-2076-4d52-822d-20bee8a2ccd9",
   "metadata": {},
   "outputs": [],
   "source": [
    "age = 25"
   ]
  },
  {
   "cell_type": "markdown",
   "id": "081e7efb-12ff-4236-8f93-bb0c00c35d1b",
   "metadata": {},
   "source": [
    "Q8. Declare a variable named price and assign the value 9.99 to it. What data type does this variable\n",
    "belong to?"
   ]
  },
  {
   "cell_type": "code",
   "execution_count": null,
   "id": "b5add5b9-ab09-42d0-ad2f-493e036b7bc5",
   "metadata": {},
   "outputs": [],
   "source": [
    "price = 9.99\n",
    "\n",
    "# This variable belongs to a float data type."
   ]
  },
  {
   "cell_type": "markdown",
   "id": "55ea437a-d19b-406e-b616-e1d4b191474a",
   "metadata": {},
   "source": [
    "Q9. Create a variable named name and assign your full name to it as a string. How would you print the\n",
    "value of this variable?"
   ]
  },
  {
   "cell_type": "code",
   "execution_count": 2,
   "id": "d17a84c7-253d-48ea-8fbb-f66346e0ca4e",
   "metadata": {},
   "outputs": [
    {
     "name": "stdout",
     "output_type": "stream",
     "text": [
      "Humayan Al Rosid\n"
     ]
    }
   ],
   "source": [
    "name = 'Humayan Al Rosid'\n",
    "print(name)"
   ]
  },
  {
   "cell_type": "markdown",
   "id": "fa03d31b-1f5d-44af-88b4-92976a3dd85f",
   "metadata": {},
   "source": [
    "Q10. Given the string \"Hello, World!\", extract the substring \"World\"."
   ]
  },
  {
   "cell_type": "code",
   "execution_count": 8,
   "id": "e47220ff-b8c7-4f53-8b18-2d35bbd0dfce",
   "metadata": {},
   "outputs": [
    {
     "name": "stdout",
     "output_type": "stream",
     "text": [
      "World\n"
     ]
    }
   ],
   "source": [
    "given_string = \"Hello, World!\"\n",
    "print(given_string[7:12])"
   ]
  },
  {
   "cell_type": "markdown",
   "id": "f32167ce-653d-49ef-98d0-4071c62d1bcb",
   "metadata": {},
   "source": [
    "Q11. Create a variable named \"is_student\" and assign it a boolean value indicating whether you are\n",
    "currently a student or not."
   ]
  },
  {
   "cell_type": "code",
   "execution_count": null,
   "id": "8e286487-299e-4f08-b705-15fe73b46a7c",
   "metadata": {},
   "outputs": [],
   "source": [
    "is_student = True"
   ]
  }
 ],
 "metadata": {
  "kernelspec": {
   "display_name": "Python 3 (ipykernel)",
   "language": "python",
   "name": "python3"
  },
  "language_info": {
   "codemirror_mode": {
    "name": "ipython",
    "version": 3
   },
   "file_extension": ".py",
   "mimetype": "text/x-python",
   "name": "python",
   "nbconvert_exporter": "python",
   "pygments_lexer": "ipython3",
   "version": "3.10.8"
  }
 },
 "nbformat": 4,
 "nbformat_minor": 5
}
