{
 "cells": [
  {
   "cell_type": "markdown",
   "id": "c35700a0-a3cc-4ee5-ad14-bf963bd1c898",
   "metadata": {},
   "source": [
    "### Q1. Which keyword is used to create a function? Create a function to return a list of odd numbers in the range of 1 to 25."
   ]
  },
  {
   "cell_type": "markdown",
   "id": "76925eda-aa41-4863-9e3f-3ae8484392f5",
   "metadata": {},
   "source": [
    "In Python, 'def' keyword is used to create a function."
   ]
  },
  {
   "cell_type": "code",
   "execution_count": 3,
   "id": "464faa93-4b9f-469f-a944-26a61640852c",
   "metadata": {},
   "outputs": [],
   "source": [
    "def list_of_odd():\n",
    "    odd_list = []\n",
    "    for x in range(1, 26):\n",
    "        if x % 2 != 0:\n",
    "            odd_list.append(x)\n",
    "    return odd_list"
   ]
  },
  {
   "cell_type": "code",
   "execution_count": 4,
   "id": "b6b93570-fd2f-4829-b19c-c8aa2ce94b04",
   "metadata": {},
   "outputs": [
    {
     "name": "stdout",
     "output_type": "stream",
     "text": [
      "[1, 3, 5, 7, 9, 11, 13, 15, 17, 19, 21, 23, 25]\n"
     ]
    }
   ],
   "source": [
    "print(list_of_odd())"
   ]
  },
  {
   "cell_type": "markdown",
   "id": "233d76d1-152a-4b75-b185-4f2f9e468b7b",
   "metadata": {},
   "source": [
    "### Q2. Why *args and **kwargs is used in some functions? Create a function each for *args and **kwargs to demonstrate their use."
   ]
  },
  {
   "cell_type": "markdown",
   "id": "f656bbb8-b085-4685-a106-40fe9a952197",
   "metadata": {},
   "source": [
    "*args is a syntax in Python that allows a function to accept multiple arguments as input. This is typically used when it is unknown how many arguments the function will need to accept.\n",
    "\n",
    "**kwargs is another syntax in Python that allows a function to receive multiple keyword arguments as input. It is similar to args in that it allows a function to accept a multiple number of arguments. However, *kwargs is used for keyword arguments instead of positional arguments.\n",
    "\n",
    "By using these two syntaxes, I can make my code more flexible and maintainable."
   ]
  },
  {
   "cell_type": "code",
   "execution_count": 5,
   "id": "0e83b647-c4ef-4cb4-9251-6b98702b0f77",
   "metadata": {},
   "outputs": [
    {
     "name": "stdout",
     "output_type": "stream",
     "text": [
      "Hello World !\n",
      "name: John\n",
      "age: 30\n",
      "city: New York\n"
     ]
    }
   ],
   "source": [
    "# args example\n",
    "def concatStrings(*args):\n",
    "    r = \"\"\n",
    "    for arg in args:\n",
    "        r += arg\n",
    "    return r\n",
    "\n",
    "s1 = \"Hello \"\n",
    "s2 = \"World \"\n",
    "s3 = \"!\"\n",
    "print(concatStrings(s1, s2, s3))\n",
    "\n",
    "\n",
    "# kwargs example\n",
    "def personDetails(**kwargs):\n",
    "    for key, value in kwargs.items():\n",
    "        print(key + \": \" + value)\n",
    "\n",
    "personDetails(name=\"John\", age=\"30\", city=\"New York\")"
   ]
  },
  {
   "cell_type": "markdown",
   "id": "53837187-56e0-4d3e-8971-d79f0239fd4b",
   "metadata": {},
   "source": [
    "### Q3. What is an iterator in python? Name the method used to initialise the iterator object and the method used for iteration. Use these methods to print the first five elements of the given list [2, 4, 6, 8, 10, 12, 14, 16, 18, 20]."
   ]
  },
  {
   "cell_type": "markdown",
   "id": "9cc69f8d-d36e-4ebb-a6c4-6761874ab47f",
   "metadata": {},
   "source": [
    "In Python, an iterator is an object that enables a programmer to loop through all the elements of a collection, such as a list or a tuple. It returns data one element at a time.\n",
    "\n",
    "With the iter() function, I can initialize an iterator object with a collection as an argument and return an iterator object.\n",
    "\n",
    "Once I have an iterator object, I can use the next() method to iterate through the collection. The next() method returns the next element in the collection and moves the iterator ahead."
   ]
  },
  {
   "cell_type": "code",
   "execution_count": 3,
   "id": "0eee2cab-b4bd-4626-8985-2448c865b646",
   "metadata": {},
   "outputs": [
    {
     "name": "stdout",
     "output_type": "stream",
     "text": [
      "2\n",
      "4\n",
      "6\n",
      "8\n",
      "10\n"
     ]
    }
   ],
   "source": [
    "myList = [2, 4, 6, 8, 10, 12, 14, 16, 18, 20]\n",
    "myIterator = iter(myList)\n",
    "\n",
    "for i in range(5):\n",
    "    print(next(myIterator))"
   ]
  },
  {
   "cell_type": "markdown",
   "id": "d620116c-ae88-4f07-9fbe-6b84ec93ae00",
   "metadata": {},
   "source": [
    "## Q4. What is a generator function in python? Why yield keyword is used? Give an example of a generator function."
   ]
  },
  {
   "cell_type": "markdown",
   "id": "a1f0b054-9fc7-4e1f-b9b8-d0258039a2a2",
   "metadata": {},
   "source": [
    "Python generator functions are special types of functions that return an iterator. It allows you to iterate over a sequence of values. With the yield keyword, it generates and returns each value one at a time instead of all at once. It's more memory-efficient for large sequences because it doesn't require all the values to be stored at once.  \n",
    "\n",
    "In a generator function, yield is used to generate values one at a time. Whenever a generator function is called, it returns an iterator and suspends the function's execution, without destroying local variables and state information."
   ]
  },
  {
   "cell_type": "code",
   "execution_count": 16,
   "id": "a5807865-08ae-4078-a86b-b5ae5f871080",
   "metadata": {},
   "outputs": [
    {
     "name": "stdout",
     "output_type": "stream",
     "text": [
      "1\n",
      "2\n",
      "3\n",
      "4\n",
      "5\n"
     ]
    }
   ],
   "source": [
    "def num_generator(n):\n",
    "    i = 1\n",
    "    while i <= n:\n",
    "        yield i\n",
    "        i += 1\n",
    "        \n",
    "my_gen = num_generator(5)\n",
    "\n",
    "for i in my_gen:\n",
    "    print(i)"
   ]
  },
  {
   "cell_type": "markdown",
   "id": "c1cf9541-f648-4767-b442-f3de475eb77d",
   "metadata": {},
   "source": [
    "### Q5. Create a generator function for prime numbers less than 1000. Use the next() method to print the first 20 prime numbers."
   ]
  },
  {
   "cell_type": "code",
   "execution_count": 5,
   "id": "3ebcaf8a-9eeb-4692-82b7-96add644dc67",
   "metadata": {},
   "outputs": [
    {
     "name": "stdout",
     "output_type": "stream",
     "text": [
      "2\n",
      "3\n",
      "5\n",
      "7\n",
      "11\n",
      "13\n",
      "17\n",
      "19\n",
      "23\n",
      "29\n",
      "31\n",
      "37\n",
      "41\n",
      "43\n",
      "47\n",
      "53\n",
      "59\n",
      "61\n",
      "67\n",
      "71\n"
     ]
    }
   ],
   "source": [
    "def is_prime():\n",
    "    for x in range(2, 1000):\n",
    "        for i in range(2,x):\n",
    "            if x % i == 0:\n",
    "                break\n",
    "        else:\n",
    "            yield x\n",
    "\n",
    "prime_num = is_prime()\n",
    "\n",
    "for num in range(20):\n",
    "    print(next(prime_num))\n"
   ]
  },
  {
   "cell_type": "markdown",
   "id": "0d724715-7e94-4728-b9d6-2f5136ef720b",
   "metadata": {},
   "source": [
    "### Q6. Write a python program to print the first 10 Fibonacci numbers using a while loop."
   ]
  },
  {
   "cell_type": "code",
   "execution_count": 18,
   "id": "acfcd28d-e5b7-417b-ae19-671e872f0394",
   "metadata": {},
   "outputs": [
    {
     "name": "stdout",
     "output_type": "stream",
     "text": [
      "0\n",
      "1\n",
      "1\n",
      "2\n",
      "3\n",
      "5\n",
      "8\n",
      "13\n",
      "21\n",
      "34\n"
     ]
    }
   ],
   "source": [
    "def fibo():\n",
    "    i = 0\n",
    "    a, b = 0, 1\n",
    "    while i < 10:\n",
    "        print(a)\n",
    "        a, b = b, a + b\n",
    "        i += 1\n",
    "fibo()"
   ]
  },
  {
   "cell_type": "markdown",
   "id": "f42ac588-716e-44e0-929d-dfd4793b7d80",
   "metadata": {},
   "source": [
    "### Q7. Write a List Comprehension to iterate through the given string: ‘pwskills’. Expected output: ['p', 'w', 's', 'k', 'i', 'l', 'l', 's']"
   ]
  },
  {
   "cell_type": "code",
   "execution_count": 21,
   "id": "484eff1f-cc5d-4972-ac08-b07745b5df58",
   "metadata": {},
   "outputs": [
    {
     "name": "stdout",
     "output_type": "stream",
     "text": [
      "['p', 'w', 's', 'k', 'i', 'l', 'l', 's']\n"
     ]
    }
   ],
   "source": [
    "my_string = [x for x in 'pwskills']\n",
    "print(my_string)"
   ]
  },
  {
   "cell_type": "markdown",
   "id": "7105a984-4bed-4b52-92c3-25db150fbeb5",
   "metadata": {},
   "source": [
    "### Q8. Write a python program to check whether a given number is Palindrome or not using a while loop."
   ]
  },
  {
   "cell_type": "code",
   "execution_count": 31,
   "id": "ea469344-624f-42bf-a3e2-93364dc9bfef",
   "metadata": {},
   "outputs": [
    {
     "name": "stdout",
     "output_type": "stream",
     "text": [
      "Palindrome\n",
      "Not Palindrome\n"
     ]
    }
   ],
   "source": [
    "def is_palindrome(num):\n",
    "    temp = num\n",
    "    r = 0\n",
    "    while num > 0:\n",
    "        n = num % 10\n",
    "        r = r * 10 + n\n",
    "        num //= 10\n",
    "    if temp == r:\n",
    "        return \"Palindrome\"\n",
    "    else:\n",
    "        return \"Not Palindrome\"\n",
    "\n",
    "print(is_palindrome(111))\n",
    "print(is_palindrome(352))"
   ]
  },
  {
   "cell_type": "markdown",
   "id": "8a898237-a356-4a0d-a0fc-f66cc445132d",
   "metadata": {},
   "source": [
    "### Q9. Write a code to print odd numbers from 1 to 100 using list comprehension."
   ]
  },
  {
   "cell_type": "code",
   "execution_count": 35,
   "id": "0a27ed2f-5647-414c-9780-feb4c6b8f539",
   "metadata": {},
   "outputs": [
    {
     "name": "stdout",
     "output_type": "stream",
     "text": [
      "[1, 3, 5, 7, 9, 11, 13, 15, 17, 19, 21, 23, 25, 27, 29, 31, 33, 35, 37, 39, 41, 43, 45, 47, 49, 51, 53, 55, 57, 59, 61, 63, 65, 67, 69, 71, 73, 75, 77, 79, 81, 83, 85, 87, 89, 91, 93, 95, 97, 99]\n"
     ]
    }
   ],
   "source": [
    "odd_numbers = [x for x in range(1, 101) if x % 2 != 0]\n",
    "print(odd_numbers)"
   ]
  }
 ],
 "metadata": {
  "kernelspec": {
   "display_name": "Python 3 (ipykernel)",
   "language": "python",
   "name": "python3"
  },
  "language_info": {
   "codemirror_mode": {
    "name": "ipython",
    "version": 3
   },
   "file_extension": ".py",
   "mimetype": "text/x-python",
   "name": "python",
   "nbconvert_exporter": "python",
   "pygments_lexer": "ipython3",
   "version": "3.10.8"
  }
 },
 "nbformat": 4,
 "nbformat_minor": 5
}
