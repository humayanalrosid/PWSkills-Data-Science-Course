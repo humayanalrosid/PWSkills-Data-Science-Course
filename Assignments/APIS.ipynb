{
 "cells": [
  {
   "cell_type": "markdown",
   "id": "bf2fd2cb-92ed-4075-b354-4a65a9a90e63",
   "metadata": {},
   "source": [
    "# APIs"
   ]
  },
  {
   "cell_type": "markdown",
   "id": "6df8178e-7795-4928-9177-61404d351152",
   "metadata": {},
   "source": [
    "### Q1. What is an API? Give an example, where an API is used in real life."
   ]
  },
  {
   "cell_type": "markdown",
   "id": "2230ebf5-044c-4b73-b073-ee6b9668ceaa",
   "metadata": {},
   "source": [
    "API (Application Programming Interface) is a communication interface that allows two software components to share data. APIs are bridges between internal and external software operations, allowing data to flow freely between them.\n",
    "\n",
    "For example, when I search for weather information on Google, Google uses APIs to display relevant weather data from my search query."
   ]
  },
  {
   "cell_type": "markdown",
   "id": "a6e6f0bb-afd8-44d2-a011-acc559f3a7e5",
   "metadata": {},
   "source": [
    "### Q2. Give advantages and disadvantages of using API."
   ]
  },
  {
   "cell_type": "markdown",
   "id": "1ea6394d-564c-4f24-8ecd-ef7017c2201f",
   "metadata": {},
   "source": [
    "#### Advantages:\n",
    "\n",
    "* **Increased interaction:** APIs enable different software systems to communicate with each other, no matter what programming language they use. This enhances interaction between systems, allowing data and functionality.\n",
    "\n",
    "* **Flexibility:** API Gateways provide flexibility to use completely independent protocols allowing my microservices to communicate among themselves easily.\n",
    "\n",
    "* **Security:** The API gateway encrypts sensitive API endpoints between the front end and microservices, so my sensitive API endpoints are not exposed. It also protects my API from malicious attack vectors such as DoS attacks, SQL injections, and several other attacks."
   ]
  },
  {
   "cell_type": "markdown",
   "id": "4b0b6d17-25d8-4b0c-8ac8-33e9d8000911",
   "metadata": {},
   "source": [
    "#### Disadvantages:\n",
    "\n",
    "* **Single point of entry:** APIs can act as a gateway that hackers can use to gain access to a network. All applications and systems are vulnerable once the API is infected.\n",
    "\n",
    "* **Time-consuming process:** Creating an API is a time-consuming process.\n",
    "\n",
    "* **Maintenance cost:** Maintenance costs are very high."
   ]
  },
  {
   "cell_type": "markdown",
   "id": "0c3b7074-80c2-4490-b414-ad8edcf8df28",
   "metadata": {},
   "source": [
    "### Q3. What is a Web API? Differentiate between API and Web API."
   ]
  },
  {
   "cell_type": "markdown",
   "id": "7e0747c5-f2f0-4dd8-a1cc-a1b395ae9ebe",
   "metadata": {},
   "source": [
    "A Web API (Application Programming Interface) requests data from a server and receives a response via HTTP. It is a collection of communication protocols and subroutines used by various programs to communicate between them.\n",
    "\n",
    "* All Web services are APIs, but not all APIs are Web services. Web services exchange data between systems or applications using open source protocols and standards. Alternatively, APIs allow applications to interact without involving the user.\n",
    "\n",
    "* Web service supports only HTTP protocol, whereas API supports HTTP/HTTPS protocol.\n",
    "\n",
    "* Web service supports XML, while API supports XML and JSON."
   ]
  },
  {
   "cell_type": "markdown",
   "id": "6bb430db-5e9a-41ea-869f-a6d530f1ba32",
   "metadata": {},
   "source": [
    "### Q4. Explain REST and SOAP Architecture. Mention shortcomings of SOAP."
   ]
  },
  {
   "cell_type": "markdown",
   "id": "4af5035d-a136-40a3-85a2-5726b0a52288",
   "metadata": {},
   "source": [
    "#### SOAP (Simple Object Access Protocol) \n",
    "It is a messaging protocol that uses XML for data exchange between applications. It is a secure way to build APIs.\n",
    "\n",
    "#### REST (Representational State Transfer) \n",
    "It is an architectural style for building APIs. It uses HTTP to request data from a server and receive a response. REST APIs can transfer data in a variety of formats, including XML, plaintext, HTML, and JSON."
   ]
  },
  {
   "cell_type": "markdown",
   "id": "0558b5f1-39a1-4c0e-a50b-c27c9dceee65",
   "metadata": {},
   "source": [
    "#### Shortcomings of SOAP\n",
    "\n",
    "* **Rigidity:** SOAP is more rigid than REST, which makes it less flexible.\n",
    "\n",
    "* **Verbosity:** SOAP uses XML as its data format, which can be more complex than other formats such as JSON. Data transfer within the SOAP structure is slowed down due to this, resulting in increased resource use."
   ]
  },
  {
   "cell_type": "markdown",
   "id": "a1350767-8d80-4464-9b37-9b168c2e326b",
   "metadata": {},
   "source": [
    "### Q5. Differentiate between REST and SOAP."
   ]
  },
  {
   "cell_type": "markdown",
   "id": "8d7087e4-e11c-4d27-94af-daaf56feda73",
   "metadata": {},
   "source": [
    "#### Differences between REST and SOAP:\n",
    "\n",
    "* Protocol: SOAP is a protocol, while REST is an architectural style.\n",
    "\n",
    "* Standards: SOAP defines strict standards, while REST doesn't.\n",
    "\n",
    "* Bandwidth and Resources: Compared to REST, SOAP uses more resources and bandwidth.\n",
    "\n",
    "* Data Format: SOAP only accepts XML data formats, while REST allows a variety of data types, including plain text, HTML, XML, JSON, and others.\n",
    "\n",
    "* Security: Both SOAP and REST use SSL security, but SOAP supports WS-Security for enterprise-level protection."
   ]
  }
 ],
 "metadata": {
  "kernelspec": {
   "display_name": "Python 3 (ipykernel)",
   "language": "python",
   "name": "python3"
  },
  "language_info": {
   "codemirror_mode": {
    "name": "ipython",
    "version": 3
   },
   "file_extension": ".py",
   "mimetype": "text/x-python",
   "name": "python",
   "nbconvert_exporter": "python",
   "pygments_lexer": "ipython3",
   "version": "3.10.8"
  }
 },
 "nbformat": 4,
 "nbformat_minor": 5
}
