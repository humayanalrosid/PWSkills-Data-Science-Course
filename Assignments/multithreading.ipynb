{
 "cells": [
  {
   "cell_type": "markdown",
   "metadata": {},
   "source": [
    "# Multithreading"
   ]
  },
  {
   "cell_type": "markdown",
   "metadata": {},
   "source": [
    "### 1. What is multithreading in python? why is it used? Name the module used to handle threads in python."
   ]
  },
  {
   "cell_type": "markdown",
   "metadata": {},
   "source": [
    "Multithreading in Python executes multiple threads simultaneously, each as a separate thread. This enables multitasking in programs, which improves their performance."
   ]
  },
  {
   "cell_type": "markdown",
   "metadata": {},
   "source": [
    "In Python, multithreading is used when multiple tasks need to be performed simultaneously or to improve performance. It is particularly useful during I/O operations, such as downloading files or reading data from a database, as it allows other tasks to continue while waiting."
   ]
  },
  {
   "cell_type": "markdown",
   "metadata": {},
   "source": [
    "There is a Python module called \"threading\" that handles threads. It provides a simple way to create and manage threads in Python."
   ]
  },
  {
   "cell_type": "markdown",
   "metadata": {},
   "source": [
    "### 2. Why threading module used? Write the use of the following functions \n",
    "1. activeCount() \n",
    "2. currentThread()\n",
    "3. enumerate()"
   ]
  },
  {
   "cell_type": "markdown",
   "metadata": {},
   "source": [
    "Python uses the threading module to create and manage threads. It provides a way to run multiple threads simultaneously, allowing a program to perform multiple tasks at the same time.\n",
    "\n",
    "The following are the uses of the three functions in the threading module:\n",
    "\n",
    "1. ActiveCount() : It returns the number of threads running in the current program. \n",
    "2. CurrentThread(): It returns the thread object that executes the current code. \n",
    "3. Enumerate(): It returns a list of all running threads in the current program. "
   ]
  },
  {
   "cell_type": "markdown",
   "metadata": {},
   "source": [
    "### 3. Explain the following functions\n",
    "\n",
    "1. run()\n",
    "2. start()\n",
    "3. join()\n",
    "4. isAlive()"
   ]
  },
  {
   "cell_type": "markdown",
   "metadata": {},
   "source": [
    "**Run():** This function is called by the start() method of a thread object. It contains the code that will be executed in a new execution thread. In the new thread, it should be overridden by a subclass of the Thread class."
   ]
  },
  {
   "cell_type": "markdown",
   "metadata": {},
   "source": [
    "**Start():** This function starts the first execution thread. It creates an initial thread object and calls its run() method to execute the code in the new thread. Once a thread has been started, it cannot be started again."
   ]
  },
  {
   "cell_type": "markdown",
   "metadata": {},
   "source": [
    "**Join():** This function waits for a thread to finish execution. It blocks the calling thread until the target thread finishes executing."
   ]
  },
  {
   "cell_type": "markdown",
   "metadata": {},
   "source": [
    "**IsAlive():** It returns whether a thread is still alive and running or has completed its execution. It is useful for checking thread status and determining whether it has finished executing."
   ]
  },
  {
   "cell_type": "markdown",
   "metadata": {},
   "source": [
    "### 4. Write a Python program to create two threads. Thread one must print the list of squares and thread two must print the list of cubes."
   ]
  },
  {
   "cell_type": "code",
   "execution_count": 3,
   "metadata": {},
   "outputs": [
    {
     "name": "stdout",
     "output_type": "stream",
     "text": [
      "List of squares: [1, 4, 9, 16, 25, 36, 49, 64, 81, 100]\n",
      "List of cubes: [1, 8, 27, 64, 125, 216, 343, 512, 729, 1000]\n"
     ]
    }
   ],
   "source": [
    "import threading\n",
    "\n",
    "def squares():\n",
    "    squares = [x**2 for x in range(1, 11)]\n",
    "    print(\"List of squares:\", squares)\n",
    "\n",
    "def cubes():\n",
    "    cubes = [x**3 for x in range(1, 11)]\n",
    "    print(\"List of cubes:\", cubes)\n",
    "\n",
    "# create two threads\n",
    "t1 = threading.Thread(target=squares)\n",
    "t2 = threading.Thread(target=cubes)\n",
    "\n",
    "# start both threads\n",
    "t1.start()\n",
    "t2.start()\n",
    "\n",
    "# wait for both threads to finish\n",
    "t1.join()\n",
    "t2.join()\n"
   ]
  },
  {
   "cell_type": "markdown",
   "metadata": {},
   "source": [
    "### Q5. State advantages and disadvantages of multithreading. "
   ]
  },
  {
   "cell_type": "markdown",
   "metadata": {},
   "source": [
    "**Advantages:**\n",
    "\n",
    "* Multithreading improves program performance by allowing multiple tasks to be performed simultaneously.\n",
    "\n",
    "* It can make more efficient use of system resources by allowing multiple threads to share the same resources.\n",
    "\n",
    "* It can simplify program design by allowing complex tasks to be broken down into smaller parts."
   ]
  },
  {
   "cell_type": "markdown",
   "metadata": {},
   "source": [
    "**Disadvantages:**\n",
    "\n",
    "* Multithreading can complicate a program, making it more difficult to design, implement, and debug.\n",
    "\n",
    "* It can increase memory usage, as each thread requires its own stack and other resources."
   ]
  },
  {
   "cell_type": "markdown",
   "metadata": {},
   "source": [
    "### Q6. Explain deadlocks and race conditions."
   ]
  },
  {
   "cell_type": "markdown",
   "metadata": {},
   "source": [
    "**Deathlocks:** They occur when two or more threads wait for each other to release a resource, which results in no progress. When both threads acquire the other resource, neither can release its resource."
   ]
  },
  {
   "cell_type": "markdown",
   "metadata": {},
   "source": [
    "**Race conditions:**\n",
    "When two or more threads access the same resource simultaneously, the order in which they access it affects the outcome. It may result in unpredictable or incorrect behavior depending on factors."
   ]
  }
 ],
 "metadata": {
  "kernelspec": {
   "display_name": "Python 3 (ipykernel)",
   "language": "python",
   "name": "python3"
  },
  "language_info": {
   "codemirror_mode": {
    "name": "ipython",
    "version": 3
   },
   "file_extension": ".py",
   "mimetype": "text/x-python",
   "name": "python",
   "nbconvert_exporter": "python",
   "pygments_lexer": "ipython3",
   "version": "3.10.8"
  }
 },
 "nbformat": 4,
 "nbformat_minor": 4
}
