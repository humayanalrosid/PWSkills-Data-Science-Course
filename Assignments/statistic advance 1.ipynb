{
 "cells": [
  {
   "cell_type": "markdown",
   "id": "5a9d018a-f7be-4c3e-bc45-2f5e56e23c7b",
   "metadata": {},
   "source": [
    "# Statistics Advance-1"
   ]
  },
  {
   "cell_type": "markdown",
   "id": "6d0b80e5-ba3c-4855-9a22-1b4f53916f9d",
   "metadata": {},
   "source": [
    "### Q1. What is the Probability density function?"
   ]
  },
  {
   "cell_type": "markdown",
   "id": "dc8f38da-1083-4173-914b-7928f1cb8754",
   "metadata": {},
   "source": [
    "The probability distribution function (PDF) calculates the probability that a random variable will take on a certain value within a specified range. It is often used to show continuous probability distributions in probability theory and statistics."
   ]
  },
  {
   "cell_type": "markdown",
   "id": "3b1391bc-0acd-4780-8014-b74d564cf3a3",
   "metadata": {},
   "source": [
    "### Q2. What are the types of Probability distribution? "
   ]
  },
  {
   "cell_type": "markdown",
   "id": "1aed057d-2f88-4f11-88f3-27fabf99e345",
   "metadata": {},
   "source": [
    "There are several types of probability distributions, including:\n",
    "\n",
    "* Normal Distribution: It is also known as the Gaussian distribution. It is symmetrical and bell-shaped.\n",
    "\n",
    "* Binomial Distribution: It describes the probability of a certain number of successes in a fixed number of independent Bernoulli trials.\n",
    "\n",
    "* Poisson Distribution: It models the probability of a certain number of events occurring within a fixed interval of time or space.\n",
    "\n",
    "* Exponential Distribution: It represents the time between consecutive events in a Poisson process.\n",
    "\n",
    "* Uniform Distribution: All values within a given interval have equal probability.\n",
    "\n",
    "* Chi-Square Distribution: Arises when analyzing the sum of squares of independent standard normal variables.\n",
    "\n",
    "* Gamma Distribution: Sum of random variables with exponential distribution.\n",
    "\n",
    "* Weibull Distribution: Often used to model lifetimes and failure rates."
   ]
  },
  {
   "cell_type": "markdown",
   "id": "c849e870-a8fe-4a35-a917-88333a7f1226",
   "metadata": {},
   "source": [
    "### Q3. Write a Python function to calculate the probability density function of a normal distribution with given mean and standard deviation at a given point."
   ]
  },
  {
   "cell_type": "code",
   "execution_count": 4,
   "id": "3b336826-5ddb-472a-bbeb-057b07c6e840",
   "metadata": {},
   "outputs": [
    {
     "data": {
      "text/plain": [
       "0.2129653370149015"
      ]
     },
     "execution_count": 4,
     "metadata": {},
     "output_type": "execute_result"
    }
   ],
   "source": [
    "import math\n",
    "\n",
    "def calculate_pdf(x, mean, std):\n",
    "    exp = -((x - mean)**2) / (2 * std**2)\n",
    "    coef = 1 / (std * math.sqrt(2 * math.pi))\n",
    "    pdf = coef * math.exp(exp)\n",
    "    return pdf\n",
    "\n",
    "calculate_pdf(0, 1, 1.5)"
   ]
  },
  {
   "cell_type": "markdown",
   "id": "29756fb2-7120-4d18-8dc4-6e88edd4807e",
   "metadata": {},
   "source": [
    "### Q4. What are the properties of Binomial distribution? Give two examples of events where binomial distribution can be applied."
   ]
  },
  {
   "cell_type": "markdown",
   "id": "abf23f45-91ca-4b02-bd4d-8cebc9eaed94",
   "metadata": {},
   "source": [
    "A binomial distribution has the following properties:\n",
    "\n",
    "The binomial distribution is discrete, meaning it is defined by a fixed number of independent trials.\n",
    "\n",
    "* It is a probability distribution that describes the number of successes in a fixed number of independent Bernoulli trials.\n",
    "\n",
    "* Each trial has two possible outcomes: success (with probability p) or failure (with probability q = 1 - p).\n",
    "\n",
    "* The trials are independent, meaning the outcome of one trial does not affect the outcome of the other trials.\n",
    "\n",
    "* The number of trials is fixed and predetermined.\n",
    "\n",
    "Here are two examples of binomial distributions:\n",
    "\n",
    "1. Flipping a coin\n",
    "\n",
    "2. Testing for a disease:"
   ]
  },
  {
   "cell_type": "markdown",
   "id": "71df7521-cb8d-409a-ace5-3a90d45039cb",
   "metadata": {},
   "source": [
    "### Q5. Generate a random sample of size 1000 from a binomial distribution with probability of success 0.4 and plot a histogram of the results using matplotlib."
   ]
  },
  {
   "cell_type": "code",
   "execution_count": 7,
   "id": "4c797adf-4f27-4eae-a76e-828e11ed9b76",
   "metadata": {},
   "outputs": [
    {
     "data": {
      "image/png": "[encoded data removed]",
      "text/plain": [
       "<Figure size 640x480 with 1 Axes>"
      ]
     },
     "metadata": {},
     "output_type": "display_data"
    }
   ],
   "source": [
    "import numpy as np\n",
    "import matplotlib.pyplot as plt\n",
    "\n",
    "sam = np.random.binomial(1000, 0.4, size=1000)\n",
    "\n",
    "plt.hist(sam, bins=10, edgecolor='black')\n",
    "plt.xlabel('Number of Successes')\n",
    "plt.ylabel('Frequency')\n",
    "plt.title('Histogram of Binomial Distribution')\n",
    "plt.show()"
   ]
  },
  {
   "cell_type": "markdown",
   "id": "a5465686-b66b-413f-b407-c992c32ccf85",
   "metadata": {},
   "source": [
    "### Q6. Write a Python function to calculate the cumulative distribution function of a Poisson distribution with given mean at a given point."
   ]
  },
  {
   "cell_type": "code",
   "execution_count": 11,
   "id": "b2c7defd-2f0a-4aba-bb6a-22242d53e706",
   "metadata": {},
   "outputs": [
    {
     "data": {
      "text/plain": [
       "0.857123460498547"
      ]
     },
     "execution_count": 11,
     "metadata": {},
     "output_type": "execute_result"
    }
   ],
   "source": [
    "from scipy.stats import poisson\n",
    "\n",
    "def cdf_poisson(k, mean):\n",
    "    cdf = poisson.cdf(k, mean)\n",
    "    return cdf\n",
    "\n",
    "cdf_poisson(3.5, 2)"
   ]
  },
  {
   "cell_type": "markdown",
   "id": "7d24c5b0-c6f9-41d0-9479-a0bfa588978e",
   "metadata": {},
   "source": [
    "### Q7. How Binomial distribution different from Poisson distribution?"
   ]
  },
  {
   "cell_type": "markdown",
   "id": "c7cede59-c60c-4580-8d42-b0e6eb82e615",
   "metadata": {},
   "source": [
    "A binomial distribution deals with a fixed number of trials with a constant probability of success, while a Poisson distribution deals with a fixed interval of time or space with a constant average rate of events."
   ]
  },
  {
   "cell_type": "markdown",
   "id": "a61ef5d6-3ed3-4fec-9d54-22d846cee5f2",
   "metadata": {},
   "source": [
    "### Q8. Generate a random sample of size 1000 from a Poisson distribution with mean 5 and calculate the sample mean and variance."
   ]
  },
  {
   "cell_type": "code",
   "execution_count": 23,
   "id": "c8822541-f83c-4a10-9f85-4823c2307fc0",
   "metadata": {},
   "outputs": [
    {
     "name": "stdout",
     "output_type": "stream",
     "text": [
      "Sample Mean: 4.981\n",
      "Sample Variance: 5.206639\n"
     ]
    }
   ],
   "source": [
    "import numpy as np\n",
    "\n",
    "samp = np.random.poisson(5, 1000)\n",
    "\n",
    "samp_mean = np.mean(samp)\n",
    "samp_var = np.var(samp)\n",
    "\n",
    "print(\"Sample Mean:\", samp_mean)\n",
    "print(\"Sample Variance:\", samp_var)"
   ]
  },
  {
   "cell_type": "markdown",
   "id": "b151a706-2277-4424-9ce7-4b263a945510",
   "metadata": {},
   "source": [
    "### Q9. How mean and variance are related in Binomial distribution and Poisson distribution?"
   ]
  },
  {
   "cell_type": "markdown",
   "id": "201f37a8-c8f7-4b0c-b9ae-6e0a8612c354",
   "metadata": {},
   "source": [
    "In a binomial distribution, the mean and variance are related to the number of trials and the likelihood of success and failure, while in a Poisson distribution, the mean and variance are equal."
   ]
  },
  {
   "cell_type": "markdown",
   "id": "fa4c3e79-0e63-46d0-ac9b-ba17cd65c572",
   "metadata": {},
   "source": [
    "### Q10. In normal distribution with respect to mean position, where does the least frequent data appear?"
   ]
  },
  {
   "cell_type": "markdown",
   "id": "4680cd10-d099-4a2a-8569-ebbe71f5d02d",
   "metadata": {},
   "source": [
    "The least frequently occurring data appear in the tails of a normal distribution."
   ]
  },
  {
   "cell_type": "code",
   "execution_count": null,
   "id": "ed7a81c2-4857-441f-8b7e-1cd6ccb9c1d6",
   "metadata": {},
   "outputs": [],
   "source": []
  }
 ],
 "metadata": {
  "kernelspec": {
   "display_name": "Python 3 (ipykernel)",
   "language": "python",
   "name": "python3"
  },
  "language_info": {
   "codemirror_mode": {
    "name": "ipython",
    "version": 3
   },
   "file_extension": ".py",
   "mimetype": "text/x-python",
   "name": "python",
   "nbconvert_exporter": "python",
   "pygments_lexer": "ipython3",
   "version": "3.10.8"
  }
 },
 "nbformat": 4,
 "nbformat_minor": 5
}
