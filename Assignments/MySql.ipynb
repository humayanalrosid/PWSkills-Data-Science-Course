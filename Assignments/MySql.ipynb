{
 "cells": [
  {
   "cell_type": "markdown",
   "metadata": {},
   "source": [
    "# MySql"
   ]
  },
  {
   "cell_type": "markdown",
   "metadata": {},
   "source": [
    "### Q1. What is a database? Differentiate between SQL and NoSQL databases."
   ]
  },
  {
   "cell_type": "markdown",
   "metadata": {},
   "source": [
    "Databases are structured collections of data that can be accessed, manipulated, and managed in an easy manner. "
   ]
  },
  {
   "cell_type": "markdown",
   "metadata": {},
   "source": [
    "SQL (Structured Query Language) databases are relational databases that store data in tables. A SQL database is best used for applications that require complex querying and analysis, like financial applications, CRMs, and ERPs."
   ]
  },
  {
   "cell_type": "markdown",
   "metadata": {},
   "source": [
    "NoSQL (Not Only SQL) databases are non-relational databases that do not store data in tables like SQL databases. A NoSQL database is designed to store unstructured data and provide high performance and scalability. Social media platforms, e-commerce sites, and gaming applications fall into this category. "
   ]
  },
  {
   "cell_type": "markdown",
   "metadata": {},
   "source": [
    "### Q2. What is DDL? Explain why CREATE, DROP, ALTER, and TRUNCATE are used with an example."
   ]
  },
  {
   "cell_type": "markdown",
   "metadata": {},
   "source": [
    "DDL stands for Data Definition Language. It is a subset of SQL used to define and manage database structure. A DDL statement is used to create, modify, and delete database objects."
   ]
  },
  {
   "cell_type": "markdown",
   "metadata": {},
   "source": [
    "##### CREATE:\n",
    "\n",
    "This statement creates a new database object such as a table. For example, the following SQL statement creates a new table called \"customers\":"
   ]
  },
  {
   "cell_type": "code",
   "execution_count": null,
   "metadata": {},
   "outputs": [],
   "source": [
    "CREATE TABLE customers (\n",
    "    id INT PRIMARY KEY,\n",
    "    name VARCHAR(50),\n",
    "    email VARCHAR(50)\n",
    ");"
   ]
  },
  {
   "cell_type": "markdown",
   "metadata": {},
   "source": [
    "##### DROP: \n",
    "\n",
    "This statement deletes a database object. For example, the following SQL statement deletes the \"customers\" table:"
   ]
  },
  {
   "cell_type": "code",
   "execution_count": null,
   "metadata": {},
   "outputs": [],
   "source": [
    "DROP TABLE customers;"
   ]
  },
  {
   "cell_type": "markdown",
   "metadata": {},
   "source": [
    "##### ALTER: \n",
    "\n",
    "This statement modifies the structure of an existing database object. For example, the following SQL statement adds a new column called \"phone\" to the \"customers\" table:"
   ]
  },
  {
   "cell_type": "code",
   "execution_count": null,
   "metadata": {},
   "outputs": [],
   "source": [
    "ALTER TABLE customers ADD phone VARCHAR(20);"
   ]
  },
  {
   "cell_type": "markdown",
   "metadata": {},
   "source": [
    "##### TRUNCATE: \n",
    "\n",
    "This statement deletes all data from a table, but does not remove the table structure itself. For example, the following SQL statement deletes all data from the \"customers\" table:"
   ]
  },
  {
   "cell_type": "code",
   "execution_count": null,
   "metadata": {},
   "outputs": [],
   "source": [
    "TRUNCATE TABLE customers;"
   ]
  },
  {
   "cell_type": "markdown",
   "metadata": {},
   "source": [
    "### Q3. What is DML? Explain INSERT, UPDATE, and DELETE with an example."
   ]
  },
  {
   "cell_type": "markdown",
   "metadata": {},
   "source": [
    "DML stands for Data Manipulation Language. It is a subset of SQL used to manipulate data within a database. DML statements insert, update, and delete data from database tables."
   ]
  },
  {
   "cell_type": "markdown",
   "metadata": {},
   "source": [
    "##### INSERT: \n",
    "\n",
    "This statement inserts new data into a table. For example, the following SQL statement inserts a new row into the \"customers\" table: "
   ]
  },
  {
   "cell_type": "code",
   "execution_count": null,
   "metadata": {},
   "outputs": [],
   "source": [
    "INSERT INTO customers (id, name, email) VALUES (1, 'Humayan', 'humayan@humayan.me');"
   ]
  },
  {
   "cell_type": "markdown",
   "metadata": {},
   "source": [
    "The above statement inserts a new row into the \"customers\" table with the values 1, 'Humayan', and 'humayan@humayan.me' in the ID, name, and email columns, respectively."
   ]
  },
  {
   "cell_type": "markdown",
   "metadata": {
    "tags": []
   },
   "source": [
    "##### UPDATE: \n",
    "\n",
    "This statement updates existing data in a table. For example, the following SQL statement updates the email address of a customer with the id of 1:"
   ]
  },
  {
   "cell_type": "code",
   "execution_count": null,
   "metadata": {},
   "outputs": [],
   "source": [
    "UPDATE customers SET email = 'hello@humayan.me' WHERE id = 1;"
   ]
  },
  {
   "cell_type": "markdown",
   "metadata": {},
   "source": [
    "The above statement updates the customer's email address with the id of 1 to 'hello@humayan.me'."
   ]
  },
  {
   "cell_type": "markdown",
   "metadata": {},
   "source": [
    "##### DELETE: \n",
    "\n",
    "This statement deletes data from a table. For example, the following SQL statement deletes a customer with an ID of 1:"
   ]
  },
  {
   "cell_type": "code",
   "execution_count": null,
   "metadata": {},
   "outputs": [],
   "source": [
    "DELETE FROM customers WHERE id = 1;"
   ]
  },
  {
   "cell_type": "markdown",
   "metadata": {},
   "source": [
    "The DELETE statement deletes the row from the \"customers\" table where the ID column is equal to 1."
   ]
  },
  {
   "cell_type": "markdown",
   "metadata": {},
   "source": [
    "### Q4. What is DQL? Explain SELECT with an example."
   ]
  },
  {
   "cell_type": "markdown",
   "metadata": {},
   "source": [
    "DQL stands for Data Query Language. It is a subset of SQL used to retrieve data from a database. DQL statements query the database and retrieve specific data from one or more tables."
   ]
  },
  {
   "cell_type": "markdown",
   "metadata": {},
   "source": [
    "##### SELECT: \n",
    "\n",
    "This statement retrieves data from one or more tables. For example, the following SQL statement retrieves all customer names and email addresses from the \"customers\" table:"
   ]
  },
  {
   "cell_type": "code",
   "execution_count": null,
   "metadata": {},
   "outputs": [],
   "source": [
    "SELECT name, email FROM customers;"
   ]
  },
  {
   "cell_type": "markdown",
   "metadata": {},
   "source": [
    "The above SELECT statement retrieves the name and email columns from the \"customers\" table and returns the results as a table."
   ]
  },
  {
   "cell_type": "markdown",
   "metadata": {},
   "source": [
    "### Q5. Explain Primary Key and Foreign Key."
   ]
  },
  {
   "cell_type": "markdown",
   "metadata": {},
   "source": [
    "#### Primary Key:\n",
    "\n",
    "In a database table, a primary key is a column or set of columns that uniquely identifies each row. A primary key ensures that each row in a table can be accessed easily and quickly.\n",
    "\n",
    "For example, in a \"customers\" table, the \"customer_id\" column can be used as the primary key. This ensures that each customer has a unique identifier."
   ]
  },
  {
   "cell_type": "markdown",
   "metadata": {},
   "source": [
    "#### Foreign Key:\n",
    "\n",
    "A foreign key is a column or a set of columns in a database table that reference a primary key from another table. It ensures that the foreign key column(s) of the referenced table match the data in its primary key column(s).\n",
    "\n",
    "For example, in an \"orders\" table, the \"customer_id\" column can be used as a foreign key to reference the \"id\" column in the \"customers\" table. This ensures that each order is associated with a specific customer."
   ]
  },
  {
   "cell_type": "markdown",
   "metadata": {},
   "source": [
    "### Q6. Write a python code to connect MySQL to python. Explain the cursor() and execute() method."
   ]
  },
  {
   "cell_type": "code",
   "execution_count": null,
   "metadata": {},
   "outputs": [],
   "source": [
    "import mysql.connector\n",
    "\n",
    "db = mysql.connector.connect(\n",
    "  host=\"localhost\",\n",
    "  user=\"root\",\n",
    "  password=\"root\"\n",
    ")\n",
    "\n",
    "mycur = db.cursor()\n",
    "mycur.execute(\"SELECT * FROM customers\")\n",
    "for i in mycur.fetchall():\n",
    "    print(i)\n",
    "db.close()"
   ]
  },
  {
   "cell_type": "markdown",
   "metadata": {},
   "source": [
    "The **cursor()** method creates a cursor object used to execute SQL queries and fetch results. The cursor object allows us to interact with the database and execute SQL queries."
   ]
  },
  {
   "cell_type": "markdown",
   "metadata": {},
   "source": [
    "The **execute()** method executes a SQL query on the database. It takes a SQL query as a parameter and runs it in the database. The execute() method can execute any SQL query, including SELECT, INSERT, UPDATE, and DELETE queries."
   ]
  },
  {
   "cell_type": "markdown",
   "metadata": {},
   "source": [
    "### Q7. Give the order of execution of SQL clauses in an SQL query."
   ]
  },
  {
   "cell_type": "markdown",
   "metadata": {},
   "source": [
    "In an SQL query, SQL clauses are executed in the following order:\n",
    "\n",
    "* FROM: This clause specifies the table or tables from which the data is retrieved.\n",
    "\n",
    "* JOIN: This clause joins two or more tables together based on a common field.\n",
    "\n",
    "* WHERE: This clause filters the data based on one or more conditions.\n",
    "\n",
    "* GROUP BY: This clause groups the data based on one or more columns.\n",
    "\n",
    "* HAVING: This clause filters the grouped data based on one or more conditions.\n",
    "\n",
    "* SELECT: This clause selects the columns included in the query results.\n",
    "\n",
    "* DISTINCT: This clause removes duplicates from query results.\n",
    "\n",
    "* ORDER BY: This clause sorts query results based on one or more columns.\n",
    "\n",
    "* LIMIT: This clause limits the number of rows returned by the query."
   ]
  },
  {
   "cell_type": "code",
   "execution_count": null,
   "metadata": {},
   "outputs": [],
   "source": []
  }
 ],
 "metadata": {
  "kernelspec": {
   "display_name": "Python 3 (ipykernel)",
   "language": "python",
   "name": "python3"
  },
  "language_info": {
   "codemirror_mode": {
    "name": "ipython",
    "version": 3
   },
   "file_extension": ".py",
   "mimetype": "text/x-python",
   "name": "python",
   "nbconvert_exporter": "python",
   "pygments_lexer": "ipython3",
   "version": "3.10.8"
  }
 },
 "nbformat": 4,
 "nbformat_minor": 4
}
